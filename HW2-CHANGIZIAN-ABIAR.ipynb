{
 "cells": [
  {
   "cell_type": "markdown",
   "metadata": {},
   "source": [
    "# OPTIM - Homework 2 \n",
    "### Programming Gradient Methods\n",
    "\n",
    "\n",
    "#### Fatemeh CHANGIZIAN, Aydin ABIAR"
   ]
  },
  {
   "cell_type": "markdown",
   "metadata": {},
   "source": [
    "# Problem 1"
   ]
  },
  {
   "cell_type": "code",
   "execution_count": 5,
   "metadata": {},
   "outputs": [],
   "source": [
    "import numpy as np\n",
    "import matplotlib.pyplot as plt"
   ]
  },
  {
   "cell_type": "markdown",
   "metadata": {},
   "source": [
    "We want to implement **Gradient Descent algorithm** to minimise the function below\n",
    "\n",
    "$$f(x_1, x_2, ..., x_m)= \\sum_{i=1}^{m} a_i\\cdot(x_i-b_i)^2 \\ + 3$$\n",
    "\n",
    "To compute Gradient Descent:\n",
    "$$\\frac{\\partial \\mathcal{f}}{\\partial x_i}= 2 a_i (x_i - b_i) $$\n",
    "\n",
    "Here, we can simply solve the minimization problem and find the optimal value of $f$. By imposing $\\frac{\\partial \\mathcal{f}}{\\partial x_i} = 0$, we get for $a_i \\neq 0$: \n",
    "\n",
    "$$ 2 a_i (x_i - b_i) = 0 \\Leftrightarrow \\forall i,  x_i^*=b_i \\text{ or } a_i = 0 \\quad $$\n",
    "\n",
    "$$ \\Leftrightarrow  f (x^*)=3$$\n",
    "$$$$\n",
    "So, our optimal value equal to **3** and we will use this value to evaluate the optimisation algorithms.\n",
    "\n",
    "This problem is actually a **Quadratic** problem which can be shown in a matrix form: $f(x)= (x-b)^T\\cdot A\\cdot(x-b) + 3$. The **Hessian** matrix is **2A** with value $2 a_i$ on diagonal and 0 otherwise. It can be computed as follows:\n",
    "\n",
    "$$ \\frac{\\partial^2 \\mathcal{f}}{\\partial x_i^2}= 2 a_i$$\n",
    "\n",
    "Notice that since the matrix is diagonal, the eigenvalues are simply the elements on the diagonal.\n",
    "Consider $a_i > 0 \\: \\forall i$\n",
    "\n",
    "There is a Lipschitz constant such as $L =\\lambda_{max}=max (2 a_i)$ \n",
    "$$$$\n",
    "There is a strong convexity with parameter $M=\\lambda_{min}=min(2 a_i)$ \n"
   ]
  },
  {
   "cell_type": "markdown",
   "metadata": {},
   "source": [
    "# Stop Criterion:\n",
    "\n",
    "We choose $\\epsilon = 10^{-6}$ and we know that the gradient descent finds an ε-suboptimal point in $O(\\frac{L}{m}log(1/ε))$ iterations, so, the maximum number of iterations is $\\frac{L}{m}log(1/ε) = 10^{6}$. \n",
    "\n",
    "___\n",
    "We choose two stop criterion for the algorithm:\n",
    "1. if $|| \\nabla f(x(k))||_2 < \\epsilon \\implies$ algorithm stops at iteration k.\n",
    "2. if we reach the maximum number of iteration $\\implies$ algorithm stops at iteration k=max_iter."
   ]
  },
  {
   "cell_type": "code",
   "execution_count": 6,
   "metadata": {},
   "outputs": [],
   "source": [
    "f = lambda x,a,b: np.sum(a*((x-b)**2))+3\n",
    "\n",
    "grad_f = lambda x,a,b: 2*a*(x-b)\n",
    "\n",
    "f_opt=3"
   ]
  },
  {
   "cell_type": "markdown",
   "metadata": {},
   "source": [
    "## 1) Gradient descent algorithm"
   ]
  },
  {
   "cell_type": "code",
   "execution_count": 7,
   "metadata": {},
   "outputs": [],
   "source": [
    "def GD_fixt(x0, grad, fun, t, eps=1e-6, max_iter=1000000):\n",
    "    x=np.ones(x0.size, dtype=np.float64)\n",
    "    g=np.ones(x0.size, dtype=np.float64)\n",
    "    f=np.ones(max_iter, dtype=np.float64)\n",
    "\n",
    "    x=x0.copy()\n",
    "    \n",
    "    for k in range(max_iter-1):\n",
    "        g=grad(x)\n",
    "        f[k]=fun(x)\n",
    "        \n",
    "        if np.linalg.norm(g, 2) < eps: #stop criterion 1\n",
    "            print(\"converged after %d iterations\" % k)\n",
    "            break\n",
    "        \n",
    "        x=x-t*g\n",
    "        \n",
    "    else: #stop criterion 2\n",
    "        k=max_iter-1\n",
    "        f[k]=fun(x)\n",
    "\n",
    "        print(\"stopped since reached max_iter\")\n",
    "        \n",
    "    return x, f[:k+1]"
   ]
  },
  {
   "cell_type": "markdown",
   "metadata": {},
   "source": [
    "## 2) Gradient descent algorithm with backtracking"
   ]
  },
  {
   "cell_type": "markdown",
   "metadata": {},
   "source": [
    "Parameters $0 < \\beta < 1$ and $0 < \\alpha \\le 1/2$\n",
    "$$$$\n",
    "At each iteration  , start with $t = t_{init}$, and shrink $t = \\beta   t$."
   ]
  },
  {
   "cell_type": "code",
   "execution_count": 8,
   "metadata": {},
   "outputs": [],
   "source": [
    "def GD_bt(x0, grad, fun, t_init, alpha=0.5, beta=0.5, eps=1e-6, max_iter=1000000):\n",
    "    x=np.ones(x0.size, dtype=np.float64)\n",
    "    g=np.ones(x0.size, dtype=np.float64)\n",
    "    f=np.ones(max_iter, dtype=np.float64)\n",
    "\n",
    "    x=x0.copy()\n",
    "    t=t_init\n",
    "    \n",
    "    for k in range(max_iter-1):\n",
    "        g=grad(x)\n",
    "        f[k]=fun(x)\n",
    "        \n",
    "        norm_g=np.linalg.norm(g, 2)\n",
    "        if  norm_g < eps: #stop criterion 1\n",
    "            print(\"converged after %d iterations\" % k)\n",
    "            break\n",
    "            \n",
    "        m=alpha*(norm_g**2)\n",
    "        while fun(x-t*g) > f[k]-t*m:\n",
    "            t*=beta\n",
    "            \n",
    "        x=x-t*g\n",
    "        \n",
    "    else: #stop criterion 2\n",
    "        k=max_iter-1\n",
    "        f[k]=fun(x)\n",
    "        print(\"stopped since reached max_iter\")\n",
    "        \n",
    "    return x, f[:k+1]"
   ]
  },
  {
   "cell_type": "markdown",
   "metadata": {},
   "source": [
    "## 3) Assume $m = 500$, $a_i = 1$ and $b_i$ is chosen randomly and uniformly in $[0, 100]$."
   ]
  },
  {
   "cell_type": "markdown",
   "metadata": {},
   "source": [
    "We have:\n",
    "$$$$\n",
    "By Lipschitz continuity $L =\\lambda_{max}=max (2 a_i)$ \n",
    "$$$$\n",
    "By strongly convexity $m=\\lambda_{min}=min(2 a_i)$ \n",
    "$$$$\n",
    "So here, $a_i = 1 \\implies L=m=2$"
   ]
  },
  {
   "cell_type": "code",
   "execution_count": 9,
   "metadata": {},
   "outputs": [],
   "source": [
    "np.random.seed(0) # makes the random numbers predictable set means the same set of numbers will appear every time."
   ]
  },
  {
   "cell_type": "code",
   "execution_count": 10,
   "metadata": {},
   "outputs": [],
   "source": [
    "m=500\n",
    "a=np.ones(m) #a_i = 1\n",
    "b=np.random.randint(101, size=m)\n",
    "x0=np.zeros(m) # with initial point xi = 0; for all i."
   ]
  },
  {
   "cell_type": "markdown",
   "metadata": {},
   "source": [
    "\n",
    "The maximum step size taken is $t_{max} = \\frac{2}{m+L}=0.5$"
   ]
  },
  {
   "cell_type": "code",
   "execution_count": 11,
   "metadata": {},
   "outputs": [
    {
     "name": "stdout",
     "output_type": "stream",
     "text": [
      "fixed t=0.40\t\tconverged after 14 iterations\n",
      "fixed t=0.50\t\tconverged after 1 iterations\n",
      "backtracking t_init=1.00\tconverged after 1 iterations\n",
      "backtracking t_init=10.00\tconverged after 23 iterations\n",
      "fixed t=0.40\t\tconverged after 14 iterations\n",
      "fixed t=0.50\t\tconverged after 1 iterations\n",
      "backtracking t_init=1.00\tconverged after 1 iterations\n",
      "backtracking t_init=10.00\tconverged after 23 iterations\n"
     ]
    },
    {
     "data": {
      "image/png": "[encoded data removed]",
      "text/plain": [
       "<Figure size 432x288 with 1 Axes>"
      ]
     },
     "metadata": {
      "needs_background": "light"
     },
     "output_type": "display_data"
    },
    {
     "data": {
      "image/png": "[encoded data removed]",
      "text/plain": [
       "<Figure size 432x288 with 1 Axes>"
      ]
     },
     "metadata": {
      "needs_background": "light"
     },
     "output_type": "display_data"
    }
   ],
   "source": [
    "t_max=0.5\n",
    "t_s=[0.4, 0.5] # fixed step size for GD\n",
    "t_init_s=[1, 10] # initial step size for GD with backtracking\n",
    "\n",
    "plt.figure(1)\n",
    "for t in t_s:\n",
    "    print(\"fixed t=%.2f\\t\\t\"%t, end='')\n",
    "    x_fixt,f_fixt=GD_fixt(x0, lambda x: grad_f(x,a,b),lambda x: f(x,a,b), t)\n",
    "    plt.plot(np.abs(f_fixt-f_opt))\n",
    "    \n",
    "    \n",
    "for t_init in t_init_s:\n",
    "    print(\"backtracking t_init=%.2f\\t\"%t_init, end='')\n",
    "    x_bkt,f_bkt=GD_bt(x0, lambda x: grad_f(x,a,b), lambda x: f(x,a,b), t_init)\n",
    "    plt.plot(np.abs(f_bkt-f_opt), '--')\n",
    "    plt.ylabel(\"$|f(x^{k}) - f^*|$\")\n",
    "    \n",
    "plt.xlabel(\"k, iteration\")\n",
    "plt.legend([\"GD with fixed t=%.2f\" % t for t in t_s] +[\"GD with backtracking $t_{init}$=%.2f\" % t_init for t_init in t_init_s]);\n",
    "plt.grid()\n",
    "    \n",
    "plt.figure(2)\n",
    "for t in t_s:\n",
    "    print(\"fixed t=%.2f\\t\\t\"%t, end='')\n",
    "    x_fixt,f_fixt=GD_fixt(x0, lambda x: grad_f(x,a,b),lambda x: f(x,a,b), t)\n",
    "    plt.semilogy(np.abs(f_fixt-f_opt))\n",
    "    \n",
    "    \n",
    "for t_init in t_init_s:\n",
    "    print(\"backtracking t_init=%.2f\\t\"%t_init, end='')\n",
    "    x_bkt,f_bkt=GD_bt(x0, lambda x: grad_f(x,a,b), lambda x: f(x,a,b), t_init)\n",
    "    plt.semilogy(np.abs(f_bkt-f_opt), '--')    \n",
    "\n",
    "plt.ylabel(\"$|f(x^{k}) - f^*|$\")\n",
    "plt.xlabel(\"k(iteration)\")\n",
    "plt.legend([\"GD with fixed t=%.2f\" % t for t in t_s] +[\"GD with backtracking $t_{init}$=%.2f\" % t_init for t_init in t_init_s]);\n",
    "plt.grid()"
   ]
  },
  {
   "cell_type": "markdown",
   "metadata": {},
   "source": [
    "### Gradient Descent with fixed step size\n",
    "\n",
    "Recalling from above that the function is **Lipschitz continuity and stongly convex** with $L=\\lambda_{max}=2$ and $m=\\lambda_{min}=2$, we can choose the step size to guarantee exponential convergence $O(\\frac{L}{m}log(1/\\epsilon))$ as follows:\n",
    "\n",
    "$$\n",
    "t\\le \\frac{2}{m+L}=0.5\n",
    "$$\n",
    "\n",
    "According to the above results, for **t=0.5** the GD algorithm converges after only **one iteration**.\n",
    "\n",
    "### Gradient Descent with backtracking\n",
    "In this case we start from size $t = t_{init}$, and shrink $t = \\beta\\cdot t$ in each iteration so,the choice of $t$ is much less critical, since the algorithm is able to diminish it. From the plot we can notice that the convergence is still exponential, similar to the gradient descent with fixed step size."
   ]
  },
  {
   "cell_type": "markdown",
   "metadata": {},
   "source": [
    "## 4) Assume $m = 500$, $a_i$ and $b_i$ is chosen randomly and uniformly in $[1, 100]$."
   ]
  },
  {
   "cell_type": "markdown",
   "metadata": {},
   "source": [
    "We remember from above that the function is Lipschitz and stongly convex:\n",
    "$$$$\n",
    "By Lipschitz continuity $L =\\lambda_{max}=max (2 a_i)$ \n",
    "$$$$\n",
    "By strongly convexity $m=\\lambda_{min}=min(2 a_i)$ \n",
    "$$$$\n",
    "So here, $a_i$ is random value in $[1; 100]$ $\\implies L=200 \\quad and \\quad m=2$"
   ]
  },
  {
   "cell_type": "code",
   "execution_count": 292,
   "metadata": {},
   "outputs": [],
   "source": [
    "np.random.seed(2) # makes the random numbers predictable set means the same set of numbers will appear every time."
   ]
  },
  {
   "cell_type": "code",
   "execution_count": 12,
   "metadata": {},
   "outputs": [],
   "source": [
    "m=500\n",
    "a=np.random.randint(101, size=m)\n",
    "b=np.random.randint(101, size=m)\n",
    "x0=np.zeros(m) # with initial point xi = 0; for all i."
   ]
  },
  {
   "cell_type": "markdown",
   "metadata": {},
   "source": [
    "### Gradient Descent with fixed step size\n",
    "According to what we got for  $L$ and $m$, the step size should be:\n",
    "\n",
    "$$\n",
    "t\\le \\frac{2}{m+L}=0.009901\n",
    "$$\n",
    "\n",
    "### Gradient Descent with Backtracking with diminishing step size\n",
    "We start with the initial step size $t = t_{init}$, and shrink $t = beta\\cdot t$ in each iteration."
   ]
  },
  {
   "cell_type": "code",
   "execution_count": 13,
   "metadata": {},
   "outputs": [
    {
     "name": "stdout",
     "output_type": "stream",
     "text": [
      "fixed t=0.009901\tconverged after 1215 iterations\n",
      "backtrack t_init=0.50\tconverged after 2443 iterations\n",
      "fixed t=0.009901\tconverged after 1215 iterations\n",
      "backtrack t_init=0.50\tconverged after 2443 iterations\n"
     ]
    },
    {
     "data": {
      "image/png": "[encoded data removed]",
      "text/plain": [
       "<Figure size 432x288 with 1 Axes>"
      ]
     },
     "metadata": {
      "needs_background": "light"
     },
     "output_type": "display_data"
    },
    {
     "data": {
      "image/png": "[encoded data removed]",
      "text/plain": [
       "<Figure size 432x288 with 1 Axes>"
      ]
     },
     "metadata": {
      "needs_background": "light"
     },
     "output_type": "display_data"
    }
   ],
   "source": [
    "L=200\n",
    "m=2\n",
    "t=2/(L+m)\n",
    "t_init=0.5\n",
    "\n",
    "plt.figure(1)\n",
    "\n",
    "print(\"fixed t=%f\\t\"%t, end='')\n",
    "x_fixt,f_fixt=GD_fixt(x0, lambda x: grad_f(x,a,b),lambda x: f(x,a,b), t, max_iter=10000)\n",
    "plt.plot(np.abs(f_fixt-f_opt))\n",
    "\n",
    "print(\"backtrack t_init=%.2f\\t\"%t_init, end='')\n",
    "x_bkt,f_bkt=GD_bt(x0, lambda x: grad_f(x,a,b), lambda x: f(x,a,b), t_init, max_iter=10000)\n",
    "plt.plot(np.abs(f_bkt-f_opt),'--')\n",
    "plt.grid() \n",
    "plt.ylabel(\"$|f(x^{k}) - f^*|$\")\n",
    "plt.xlabel(\"k(iteration)\")\n",
    "plt.legend([\"GD with fixed t=%f\" % t, \"GD with backtracking $t_{init}$=%.2f\" % t_init]);\n",
    "\n",
    "plt.figure(2)\n",
    "\n",
    "print(\"fixed t=%f\\t\"%t, end='')\n",
    "x_fixt,f_fixt=GD_fixt(x0, lambda x: grad_f(x,a,b),lambda x: f(x,a,b), t, max_iter=10000)\n",
    "plt.semilogy(np.abs(f_fixt-f_opt))\n",
    "\n",
    "print(\"backtrack t_init=%.2f\\t\"%t_init, end='')\n",
    "x_bkt,f_bkt=GD_bt(x0, lambda x: grad_f(x,a,b), lambda x: f(x,a,b), t_init, max_iter=10000)\n",
    "plt.semilogy(np.abs(f_bkt-f_opt),'--')\n",
    "plt.grid()  \n",
    "plt.ylabel(\"$|f(x^{k}) - f^*|$\")\n",
    "plt.xlabel(\"iteration, k\")\n",
    "plt.legend([\"GD with fixed t=%f\" % t, \"GD with backtracking $t_{init}$=%.2f\" % t_init]);"
   ]
  },
  {
   "cell_type": "markdown",
   "metadata": {},
   "source": [
    "# Comparison:\n",
    "### Gradient Descent with fixed step size\n",
    "\n",
    "As we can see from the above results, in this case the Gradient Descent algorithm with fixed step size converges, but takes many more iterations than  part **3)** because **Higher condition number $\\frac{L}{m}$ $\\implies$ Slower convergence rate.** \n",
    "$$$$\n",
    "So, as we know the convergence rate is $O(\\frac{L}{m}log(1/ε))= O(100log(1/ε))$ \n",
    "\n",
    "### Gradient Descent with Backtracking with diminishing step size\n",
    "Again the choice of the initial step size is not critical. The algorithm converges exponentially, even if it requires more iteration then the standard gradient descent with fixed step size."
   ]
  },
  {
   "cell_type": "markdown",
   "metadata": {},
   "source": [
    "______________________________________________________"
   ]
  },
  {
   "cell_type": "markdown",
   "metadata": {},
   "source": [
    "# Problem 2"
   ]
  },
  {
   "cell_type": "markdown",
   "metadata": {},
   "source": [
    "At first, we consider **the minimisation primal problem** as below:\n",
    "\n",
    "$$  \\min_{x}\\quad f(x_1,x_2,...,x_m) = \\sum_{i=1}^{m} a_1\\cdot(x_i-b_i)^2 + 3 $$\n",
    "$$\\textit{s.t.}  \\quad \\sum_{i=0}^{m} x_i \\leq 100 $$\n",
    "$$$$\n",
    "$$   x_i \\geq 0, \\forall i\\ge 1 $$\n",
    "\n",
    "$$$$\n",
    "Then, We try to apply **Lagrangian method** with the lagrange multipliers $\\lambda$:\n",
    "\n",
    "In general, we have:$\\quad$ $\\mathcal{L} (x,\\lambda)= f(x) - \\lambda g(x)$ where  $x=(x_1, ... , x_m)$ and $\\lambda=(\\lambda_0,\\lambda_1, ..., \\lambda_{m})$ \n",
    "\n",
    "Here $\\lambda$ has $m+1$ values: $\\lambda=(\\lambda_1, ..., \\lambda_{m})$ is associatd with the constraints on $   x_i \\geq 0, \\forall i $ and $\\lambda_0$ is associated with the constraint on $\\sum_{i=0}^{m} x_i \\leq 100 $.\n",
    "$$$$\n",
    "So, $g_{i}(x)=-x, \\forall i \\in (1,...,m)  \\leq 0 $ and $ g_{0}(x)=(\\sum_{i=1}^{m} x_i) -100\\leq 0 $. \n",
    "$$$$\n",
    "\n",
    "Therefore, the **dual problem** is:\n",
    "\n",
    "\n",
    "$$\\max_{\\lambda}{g(\\lambda)} $$\n",
    "$$\\quad \\textit{s.t.} \\quad \\lambda_i\\ge0, \\forall i\\ge 1$$\n",
    "\n",
    "where $g(\\lambda)= \\min_{x}{\\mathcal{L} (x,\\lambda)}$\n",
    "$$$$\n",
    "${\\mathcal{L}(x,\\lambda)} = f(x) +\\lambda_0(\\sum_{i=1}^{m} x_i -100)+ \\lambda_i(-x)$ where $\\forall i \\in (1,...,m)$"
   ]
  },
  {
   "cell_type": "markdown",
   "metadata": {},
   "source": [
    "## 1) KKT conditions\n",
    "\n",
    "KKT conditions:\n",
    "\n",
    "1. Stationarity\n",
    "$$ \\frac{\\partial \\mathcal{L}}{\\partial x_i} = 2 a_i (x_i - b_i) +\\lambda_0 - \\lambda_i = 0$$\n",
    "\n",
    "2. Complementary slackness\n",
    "\n",
    "$$ \\lambda_0\\left(\\sum_{i=1}^{m}{x_i} -100\\right) = 0$$\n",
    "$$ \\lambda_i x_i =0,\\, \\forall i\\ge 1$$\n",
    "\n",
    "3. Primal feasibility\n",
    "$$\\sum_{i=1}^{m} x_i \\le 100$$\n",
    "$$-x_i \\le 0, \\forall i\\ge 1$$\n",
    "\n",
    "\n",
    "\n",
    "4. Dual feasibility\n",
    "$$\\lambda_i\\ge0,\\, \\forall i\\ge 1$$\n",
    "\n",
    "\n",
    "\n",
    "\n",
    "\n"
   ]
  },
  {
   "cell_type": "markdown",
   "metadata": {},
   "source": [
    "## Solution\n",
    "Following  above conditions, we want to some give insights on how to solve this problem.\n",
    "$$$$\n",
    "According to **Stationarity and complementary slackness** conditions: \n",
    "\n",
    "$2 a_i (x_i - b_i) +\\lambda_0 - \\lambda_i = 0  \\implies  x_i =  \\frac{\\lambda_i-\\lambda_0}{2 a_i}+ b_i$\n",
    "$$$$\n",
    "We have $ \\lambda_i x_i =0,\\, \\forall i\\ge 1$, so:\n",
    "$$$$\n",
    "$\\textit{if} \\quad  x_i\\neq 0 \\implies \\lambda_i = 0 $ :\n",
    "$$x_i =  \\frac{-\\lambda_0}{2 a_i}+ b_i$$\n",
    "We also have $ x_i > 0 $, we have $ \\frac{-\\lambda_0}{2 a_i}+ b_i = x_i > 0 \\implies \\lambda_0< 2 a_i b_i $\n",
    "\n",
    "---\n",
    "\n",
    "$\\textit{if} \\quad \\lambda_i \\neq  0  \\implies x_i=0 $ :\n",
    "$$\\lambda_i =  -2 a_i b_i +\\lambda_0$$\n",
    "$$$$\n",
    "We also have $ \\lambda_i > 0 $, we have $ -2 a_i b_i +\\lambda_0 = \\lambda_i > 0 \\implies \\lambda_0> 2 a_i b_i $\n",
    "\n",
    "---\n",
    "\n",
    "We got $x_i = max(0, \\frac{-\\lambda_0}{2a_i}+b_i)$\n",
    "\n",
    "---\n",
    "On the other hand, according to $\\lambda_0 (\\sum_{i=1}^{m} x_i - 100) = 0$ implies that either $\\lambda_0 = 0$ or $\\sum_{i=1}^{m} x_i - 100=0$\n",
    "\n",
    "$\\textit{if}\\quad\\lambda_0 = 0$ then $x_i=\\frac{\\lambda_i}{2 a_i}+ b_i$.\n",
    "\n",
    "$\\textit{if}\\quad\\sum_{i=1}^{m} x_i - 100=0$ then $\\sum_{i=1}^{m}\\frac{\\lambda_i-\\lambda_0}{2 a_i}+ b_i = 100$\n",
    "$$$$\n",
    "So, $\\sum_{i=1}^{m}{\\lambda_i-\\lambda_0} = \\frac{100-\\sum_{i=1}^{m}b_i}{\\sum_{i=1}^{m}\\frac{1}{2a_ib_i}}$\n",
    "$$$$\n",
    "Thus $x_i=b_i+\\frac{\\frac{100-\\sum_{i=1}^{m}b_i}{\\sum_{i=1}^{m}\\frac{1}{2a_ib_i}}}{2a_ib_i}, \\forall i$\n",
    "\n",
    "\n"
   ]
  },
  {
   "cell_type": "markdown",
   "metadata": {},
   "source": [
    "## Solution\n",
    "Assume again that m = 500, and pick both ai and bi uniformly in [1, 100]."
   ]
  },
  {
   "cell_type": "code",
   "execution_count": 14,
   "metadata": {},
   "outputs": [],
   "source": [
    "f = lambda x,a,b: np.sum(a*((x-b)**2))+3"
   ]
  },
  {
   "cell_type": "code",
   "execution_count": 15,
   "metadata": {},
   "outputs": [],
   "source": [
    "np.random.seed(1)"
   ]
  },
  {
   "cell_type": "code",
   "execution_count": 16,
   "metadata": {},
   "outputs": [],
   "source": [
    "m=500\n",
    "a=np.random.randint(1,100+1, size=m)\n",
    "b=np.random.randint(1,100+1, size=m)"
   ]
  },
  {
   "cell_type": "markdown",
   "metadata": {},
   "source": [
    "## 2) Dual ascent\n",
    "After deriving analytical expression of g($\\lambda$), we try to solve a minimisation problem with **dual ascent algorithm** based on its dual form.\n",
    "\n",
    "Our optimization problem can be considered in matrix form as\n",
    "\n",
    "$$\\min_{x}{f(x)} \\quad \\textit{st} \\quad  Cx \\le d $$\n",
    "\n",
    "where $C$ is a matrix $(m+1, m)$ and $d$ is a $(m+1, 1)$ vector, associated with the constraint reported above.\n",
    "\n",
    "\n",
    "In particular the first row of C is full of ones to represent the constraint $\\sum_{i} x_i \\le 100$, while the other $m$ rows have $-1$ on the diagonal, and represent the constraints $-x_i \\le 0, \\forall i \\ge 1$.\n",
    "$$$$\n",
    "$d$ is instead formed by putting $100$ in the first row and $0$ elsewhere. "
   ]
  },
  {
   "cell_type": "markdown",
   "metadata": {},
   "source": [
    "\\begin{equation}\n",
    "\\mathbf{C} = \\begin{bmatrix}\n",
    "1 & 1 & \\dots & 1\\\\\\ \n",
    "-1 & 0 & \\dots & 0\\\\\\ \n",
    "0 & -1 & \\dots & 0\\\\\\ \n",
    "\\vdots & \\ddots & \\ddots & \\vdots\\\\\\ \n",
    "0 & 0 & \\dots & -1\n",
    "\\end{bmatrix},\n",
    "\\qquad\n",
    "\\mathbf{d} = \\begin{bmatrix}\n",
    "100\\\\\\ \n",
    "0\\\\\\ \n",
    "0\\\\\\ \n",
    "\\vdots\\\\\\ \n",
    "0\n",
    "\\end{bmatrix}.\n",
    "\\end{equation}"
   ]
  },
  {
   "cell_type": "code",
   "execution_count": 17,
   "metadata": {},
   "outputs": [],
   "source": [
    "C=np.concatenate([np.ones((1,m)),-np.eye(m)],axis=0)\n",
    "d=np.zeros(m+1, dtype=np.float64)\n",
    "d[0]=100"
   ]
  },
  {
   "cell_type": "markdown",
   "metadata": {},
   "source": [
    "We know if $f$ is strongly convex with parameter $m$, then **dual gradient ascent** with step sizes with constant step sizes $t_k = m$ converges at sublinear rate $O(\\frac{1}{\\epsilon})$\n",
    "$$$$\n",
    "According to what we got for  $L$ and $m$ (for simpilicity $L=1/m$ and $m=2$), the step size should be:\n",
    "\n",
    "$$\n",
    "t=L=0.5\n",
    "$$\n",
    "$$$$"
   ]
  },
  {
   "cell_type": "markdown",
   "metadata": {},
   "source": [
    "Essentially the dual ascent algorithm works by doing **gradient ascent** on the dual variable $\\lambda$ and updating at each iteration the value $x$ by solving a minimisation problem.\n",
    "\n",
    "$$\n",
    "x^{k+1}= arg min_x(\\mathcal{L}(x^{k}, \\lambda^{k}))= argmin_{x}{(f(x) + (\\lambda ^k)^T C x)}$$\n",
    "and\n",
    "$$\n",
    "\\lambda^{k+1}=max(\\lambda^k+t_k ( A x^{k+1} -b),0)\n",
    "$$"
   ]
  },
  {
   "cell_type": "markdown",
   "metadata": {},
   "source": [
    "For our case we can derive a closed form for the argmin, by simply computing the gradient and setting it equal to 0:\n",
    "\n",
    "$$ \n",
    "\\nabla [f(x) + (\\lambda ^k)^T (C x-d)]=0 \\implies \\nabla f(x) + (\\lambda ^k)^T C  =0\n",
    "$$\n",
    "therefore\n",
    "$$\n",
    "2 a_i (x_i - b_i) +(\\lambda ^k)^T C_i =0 \\implies x_i=b_i - \\frac{(\\lambda ^k)^T C_i}{2a_i}\n",
    "$$\n"
   ]
  },
  {
   "cell_type": "markdown",
   "metadata": {},
   "source": [
    "Indeed for the gradient dual ascent in the variable $u$,  $\\nabla g(u)=C x -d$ s.t. $Cx -d \\le 0$ \n",
    "\n",
    "A reasonable choice seems to check the difference of the function we want to minimise ($f(x)$) with respect its value in the previous iteration: if the function is not changing we stop the execution. Therefore the stopping condition is $|f(x_{k})- f(x_{k-1})|<\\epsilon$.\n",
    "$$$$\n",
    "For the **stopping criterion**, a maximum number of iterations is chosen with respect to a variable $\\epsilon=10^{−4}$, which is \n",
    "$$ max\\_iter=  \\frac{1}{\\epsilon} = 10000$$"
   ]
  },
  {
   "cell_type": "code",
   "execution_count": 18,
   "metadata": {},
   "outputs": [],
   "source": [
    "argmin_f=lambda u: np.maximum(b-(u@C)/(2*a),0)"
   ]
  },
  {
   "cell_type": "code",
   "execution_count": 19,
   "metadata": {},
   "outputs": [],
   "source": [
    "def dual_ascent(u0, argmin, fun, t, C, d, eps=1e-4, max_iter=10000):\n",
    "    assert(u0.shape[0]==C.shape[0]==d.shape[0])\n",
    "    n_var,n_con=C.shape[1], u0.size\n",
    "    \n",
    "    x=np.empty(n_var, dtype=np.float64)\n",
    "    u=np.empty(n_con, dtype=np.float64)\n",
    "    f=np.empty(max_iter, dtype=np.float64)\n",
    "    \n",
    "    u=u0.copy()\n",
    "    \n",
    "    for k in range(max_iter-1):\n",
    "        \n",
    "        # solve argmin problem\n",
    "        x=argmin(u)\n",
    "        f[k]=fun(x)\n",
    "        \n",
    "        if  np.abs(f[k]-f[k-1]) < eps:\n",
    "            print(\"converged after %d iterations\" % k)\n",
    "            break\n",
    "\n",
    "        #update u\n",
    "\n",
    "        u=np.maximum(u+t*(C@x-d),0)\n",
    "        \n",
    "    else: \n",
    "        k=max_iter-1\n",
    "        x=argmin(u)\n",
    "        f[k]=fun(x)\n",
    "\n",
    "        print(\"stopped since reached max_iter\")\n",
    "        \n",
    "    \n",
    "    return x, f[:k+1]"
   ]
  },
  {
   "cell_type": "code",
   "execution_count": 20,
   "metadata": {},
   "outputs": [],
   "source": [
    "u0=np.ones(m+1)"
   ]
  },
  {
   "cell_type": "code",
   "execution_count": 21,
   "metadata": {},
   "outputs": [],
   "source": [
    "t=0.5"
   ]
  },
  {
   "cell_type": "code",
   "execution_count": 22,
   "metadata": {},
   "outputs": [
    {
     "name": "stdout",
     "output_type": "stream",
     "text": [
      "converged after 615 iterations\n"
     ]
    }
   ],
   "source": [
    "x_da,f_da=dual_ascent(u0, argmin_f ,lambda x: f(x,a,b), t, C, d, max_iter=10000, eps=1e-4)"
   ]
  },
  {
   "cell_type": "markdown",
   "metadata": {},
   "source": [
    "Here, we try to solve the problem using **scipy.optimize**, then, we will use the opimal value to evluate the optimisation algorithms."
   ]
  },
  {
   "cell_type": "code",
   "execution_count": 23,
   "metadata": {},
   "outputs": [
    {
     "data": {
      "text/plain": [
       "(True, 'Optimization terminated successfully', 80630285.2505914)"
      ]
     },
     "execution_count": 23,
     "metadata": {},
     "output_type": "execute_result"
    }
   ],
   "source": [
    "from scipy.optimize import LinearConstraint, minimize\n",
    "\n",
    "min_sol=minimize(lambda x: np.sqrt(f(x,a,b)),np.ones(m), constraints=LinearConstraint(C,-np.inf, d))\n",
    "f_opt=f(min_sol.x, a,b)\n",
    "min_sol.success, min_sol.message, f_opt"
   ]
  },
  {
   "cell_type": "code",
   "execution_count": 24,
   "metadata": {
    "scrolled": false
   },
   "outputs": [
    {
     "data": {
      "image/png": "[encoded data removed]",
      "text/plain": [
       "<Figure size 432x288 with 1 Axes>"
      ]
     },
     "metadata": {
      "needs_background": "light"
     },
     "output_type": "display_data"
    },
    {
     "data": {
      "image/png": "[encoded data removed]",
      "text/plain": [
       "<Figure size 432x288 with 1 Axes>"
      ]
     },
     "metadata": {
      "needs_background": "light"
     },
     "output_type": "display_data"
    }
   ],
   "source": [
    "plt.figure(1)\n",
    "\n",
    "plt.semilogy(np.abs(f_da-f_opt))\n",
    "\n",
    "plt.ylabel(\"$|f(x^{k}) - f^*|$\")\n",
    "plt.xlabel(\"k(iteration)\");\n",
    "plt.title(\"Dual Ascent with fixed t=%f\" % t);\n",
    "plt.grid()\n",
    "\n",
    "plt.figure(2)\n",
    "\n",
    "plt.plot(np.abs(f_da-f_opt))\n",
    "\n",
    "plt.ylabel(\"$|f(x^{k}) - f^*|$\")\n",
    "plt.xlabel(\"k(iteration)\");\n",
    "plt.title(\"Dual Ascent with fixed t=%f\" % t);\n",
    "plt.grid()"
   ]
  },
  {
   "cell_type": "code",
   "execution_count": 25,
   "metadata": {
    "scrolled": true
   },
   "outputs": [
    {
     "name": "stdout",
     "output_type": "stream",
     "text": [
      "sum(x_i) =\t\t 100.00000 \n",
      "# - x_i =\t 0\n"
     ]
    }
   ],
   "source": [
    "print(\"sum(x_i) =\\t\\t %.5f\" % np.sum(x_da), \"\\n# - x_i =\\t\",np.sum(x_da<0))"
   ]
  },
  {
   "cell_type": "markdown",
   "metadata": {},
   "source": [
    "## 3) Could the solution be parallelized?"
   ]
  },
  {
   "cell_type": "markdown",
   "metadata": {},
   "source": [
    "The solution can be parallelised using **dual decomposition**. Indeed since the function $f(x_1, x_2, ..., x_m)= \\sum_{i=1}^{m} a_i(x_i-b_i)^2 + 3$ to minimise given by the summation of $m$ terms of $f_i(x_i)$ that depends only on one variable $x_i$.\n",
    "\n",
    "This allows to split the argmin problem like follows:\n",
    "$$ x^{k+1}= argmin_{x}{(f(x) + (u ^k)^T C x)} \\iff x^{k+1}_i= argmin_{x_i}{(f_i(x_i) + (u ^k)^T C_i x_i)} $$\n",
    "\n",
    "In this way, we don't reduce the number of iterations required, because after each iteration we still need to gather all the $x_i$ and compute the updated $u^{k}$.\n",
    "\n",
    "Anyway this decomposition can speed up the execution time, since we can run argmin problems in parallel with seperate processors so each iteration costs less time."
   ]
  }
 ],
 "metadata": {
  "kernelspec": {
   "display_name": "Python 3",
   "language": "python",
   "name": "python3"
  },
  "language_info": {
   "codemirror_mode": {
    "name": "ipython",
    "version": 3
   },
   "file_extension": ".py",
   "mimetype": "text/x-python",
   "name": "python",
   "nbconvert_exporter": "python",
   "pygments_lexer": "ipython3",
   "version": "3.7.6"
  }
 },
 "nbformat": 4,
 "nbformat_minor": 4
}
